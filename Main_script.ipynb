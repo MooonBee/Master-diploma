{
 "cells": [
  {
   "cell_type": "code",
   "execution_count": 62,
   "id": "67085117-e72f-45ff-b718-ca5146d1284c",
   "metadata": {},
   "outputs": [],
   "source": [
    "#!MY_PATH=\"/home/eshchoka/B_Memory_master/Master_Diploma_Private/data/\""
   ]
  },
  {
   "cell_type": "code",
   "execution_count": 63,
   "id": "f728b042-cff5-429f-82cb-30aac5c3b22a",
   "metadata": {},
   "outputs": [
    {
     "name": "stdout",
     "output_type": "stream",
     "text": [
      "\n"
     ]
    }
   ],
   "source": [
    "#!echo $MY_PATH"
   ]
  },
  {
   "cell_type": "code",
   "execution_count": 40,
   "id": "44dcde2f-7117-48fb-9c0e-0654cebbdb7d",
   "metadata": {},
   "outputs": [
    {
     "name": "stdout",
     "output_type": "stream",
     "text": [
      "/projects/cdr3_ngs/2022/02_FMBA_NovaSeq/Lcp12_tum_IgA_S19_R1_001.fastq.gz\n",
      "/projects/cdr3_ngs/2022/02_FMBA_NovaSeq/Lcp12_tum_IgA_S19_R2_001.fastq.gz\n",
      "/projects/cdr3_ngs/2022/02_FMBA_NovaSeq/Lcp12_tum_IgG_S20_R1_001.fastq.gz\n",
      "/projects/cdr3_ngs/2022/02_FMBA_NovaSeq/Lcp12_tum_IgG_S20_R2_001.fastq.gz\n",
      "/projects/cdr3_ngs/2022/02_FMBA_NovaSeq/Lcp_15_tum_IgA_1_S21_R1_001.fastq.gz\n",
      "/projects/cdr3_ngs/2022/02_FMBA_NovaSeq/Lcp_15_tum_IgA_1_S21_R2_001.fastq.gz\n",
      "/projects/cdr3_ngs/2022/02_FMBA_NovaSeq/Lcp_15_tum_IgA_2_S23_R1_001.fastq.gz\n",
      "/projects/cdr3_ngs/2022/02_FMBA_NovaSeq/Lcp_15_tum_IgA_2_S23_R2_001.fastq.gz\n",
      "/projects/cdr3_ngs/2022/02_FMBA_NovaSeq/Lcp_15_tum_IgG_1_S22_R1_001.fastq.gz\n",
      "/projects/cdr3_ngs/2022/02_FMBA_NovaSeq/Lcp_15_tum_IgG_1_S22_R2_001.fastq.gz\n",
      "/projects/cdr3_ngs/2022/02_FMBA_NovaSeq/Lcp_15_tum_IgG_2_S24_R1_001.fastq.gz\n",
      "/projects/cdr3_ngs/2022/02_FMBA_NovaSeq/Lcp_15_tum_IgG_2_S24_R2_001.fastq.gz\n",
      "/projects/cdr3_ngs/2022/02_FMBA_NovaSeq/Lcp_16_tum_IgA_1_S25_R1_001.fastq.gz\n",
      "/projects/cdr3_ngs/2022/02_FMBA_NovaSeq/Lcp_16_tum_IgA_1_S25_R2_001.fastq.gz\n",
      "/projects/cdr3_ngs/2022/02_FMBA_NovaSeq/Lcp_16_tum_IgA_2_S27_R1_001.fastq.gz\n",
      "/projects/cdr3_ngs/2022/02_FMBA_NovaSeq/Lcp_16_tum_IgA_2_S27_R2_001.fastq.gz\n",
      "/projects/cdr3_ngs/2022/02_FMBA_NovaSeq/Lcp_16_tum_IgG_1_S26_R1_001.fastq.gz\n",
      "/projects/cdr3_ngs/2022/02_FMBA_NovaSeq/Lcp_16_tum_IgG_1_S26_R2_001.fastq.gz\n",
      "/projects/cdr3_ngs/2022/02_FMBA_NovaSeq/Lcp_16_tum_IgG_2_S28_R1_001.fastq.gz\n",
      "/projects/cdr3_ngs/2022/02_FMBA_NovaSeq/Lcp_16_tum_IgG_2_S28_R2_001.fastq.gz\n",
      "/projects/cdr3_ngs/2022/02_FMBA_NovaSeq/Lcp_17_tum_IgA_1_S52_R1_001.fastq.gz\n",
      "/projects/cdr3_ngs/2022/02_FMBA_NovaSeq/Lcp_17_tum_IgA_1_S52_R2_001.fastq.gz\n",
      "/projects/cdr3_ngs/2022/02_FMBA_NovaSeq/Lcp_17_tum_IgA_2_S53_R1_001.fastq.gz\n",
      "/projects/cdr3_ngs/2022/02_FMBA_NovaSeq/Lcp_17_tum_IgA_2_S53_R2_001.fastq.gz\n",
      "/projects/cdr3_ngs/2022/02_FMBA_NovaSeq/Lcp_17_tum_IgG_1_S54_R1_001.fastq.gz\n",
      "/projects/cdr3_ngs/2022/02_FMBA_NovaSeq/Lcp_17_tum_IgG_1_S54_R2_001.fastq.gz\n",
      "/projects/cdr3_ngs/2022/02_FMBA_NovaSeq/Lcp_17_tum_IgG_2_S55_R1_001.fastq.gz\n",
      "/projects/cdr3_ngs/2022/02_FMBA_NovaSeq/Lcp_17_tum_IgG_2_S55_R2_001.fastq.gz\n",
      "/projects/cdr3_ngs/2022/02_FMBA_NovaSeq/Lcp_20_tum_IgA_1_S56_R1_001.fastq.gz\n",
      "/projects/cdr3_ngs/2022/02_FMBA_NovaSeq/Lcp_20_tum_IgA_1_S56_R2_001.fastq.gz\n",
      "/projects/cdr3_ngs/2022/02_FMBA_NovaSeq/Lcp_20_tum_IgA_2_S57_R1_001.fastq.gz\n",
      "/projects/cdr3_ngs/2022/02_FMBA_NovaSeq/Lcp_20_tum_IgA_2_S57_R2_001.fastq.gz\n",
      "/projects/cdr3_ngs/2022/02_FMBA_NovaSeq/Lcp_20_tum_IgG_1_S58_R1_001.fastq.gz\n",
      "/projects/cdr3_ngs/2022/02_FMBA_NovaSeq/Lcp_20_tum_IgG_1_S58_R2_001.fastq.gz\n",
      "/projects/cdr3_ngs/2022/02_FMBA_NovaSeq/Lcp_20_tum_IgG_2_S59_R1_001.fastq.gz\n",
      "/projects/cdr3_ngs/2022/02_FMBA_NovaSeq/Lcp_20_tum_IgG_2_S59_R2_001.fastq.gz\n",
      "/projects/cdr3_ngs/2022/02_FMBA_NovaSeq/Lcp6_LN_IgA_1_S68_R1_001.fastq.gz\n",
      "/projects/cdr3_ngs/2022/02_FMBA_NovaSeq/Lcp6_LN_IgA_1_S68_R2_001.fastq.gz\n",
      "/projects/cdr3_ngs/2022/02_FMBA_NovaSeq/Lcp6_LN_IgA_2_S69_R1_001.fastq.gz\n",
      "/projects/cdr3_ngs/2022/02_FMBA_NovaSeq/Lcp6_LN_IgA_2_S69_R2_001.fastq.gz\n",
      "/projects/cdr3_ngs/2022/02_FMBA_NovaSeq/Lcp6_LN_IgG_1_S70_R1_001.fastq.gz\n",
      "/projects/cdr3_ngs/2022/02_FMBA_NovaSeq/Lcp6_LN_IgG_1_S70_R2_001.fastq.gz\n",
      "/projects/cdr3_ngs/2022/02_FMBA_NovaSeq/Lcp6_LN_IgG_2_S71_R1_001.fastq.gz\n",
      "/projects/cdr3_ngs/2022/02_FMBA_NovaSeq/Lcp6_LN_IgG_2_S71_R2_001.fastq.gz\n",
      "/projects/cdr3_ngs/2022/02_FMBA_NovaSeq/Lcp6_norm_IgA_S66_R1_001.fastq.gz\n",
      "/projects/cdr3_ngs/2022/02_FMBA_NovaSeq/Lcp6_norm_IgA_S66_R2_001.fastq.gz\n",
      "/projects/cdr3_ngs/2022/02_FMBA_NovaSeq/Lcp6_norm_IgG_S67_R1_001.fastq.gz\n",
      "/projects/cdr3_ngs/2022/02_FMBA_NovaSeq/Lcp6_norm_IgG_S67_R2_001.fastq.gz\n",
      "/projects/cdr3_ngs/2022/02_FMBA_NovaSeq/Lcp7_tum_IgA_S60_R1_001.fastq.gz\n",
      "/projects/cdr3_ngs/2022/02_FMBA_NovaSeq/Lcp7_tum_IgA_S60_R2_001.fastq.gz\n",
      "/projects/cdr3_ngs/2022/02_FMBA_NovaSeq/Lcp7_tum_IgG_S61_R1_001.fastq.gz\n",
      "/projects/cdr3_ngs/2022/02_FMBA_NovaSeq/Lcp7_tum_IgG_S61_R2_001.fastq.gz\n",
      "/projects/cdr3_ngs/2022/02_FMBA_NovaSeq/Lcp8_tum_IgA_1_S62_R1_001.fastq.gz\n",
      "/projects/cdr3_ngs/2022/02_FMBA_NovaSeq/Lcp8_tum_IgA_1_S62_R2_001.fastq.gz\n",
      "/projects/cdr3_ngs/2022/02_FMBA_NovaSeq/Lcp8_tum_IgA_2_S63_R1_001.fastq.gz\n",
      "/projects/cdr3_ngs/2022/02_FMBA_NovaSeq/Lcp8_tum_IgA_2_S63_R2_001.fastq.gz\n",
      "/projects/cdr3_ngs/2022/02_FMBA_NovaSeq/Lcp8_tum_IgG_1_S64_R1_001.fastq.gz\n",
      "/projects/cdr3_ngs/2022/02_FMBA_NovaSeq/Lcp8_tum_IgG_1_S64_R2_001.fastq.gz\n",
      "/projects/cdr3_ngs/2022/02_FMBA_NovaSeq/Lcp8_tum_IgG_2_S65_R1_001.fastq.gz\n",
      "/projects/cdr3_ngs/2022/02_FMBA_NovaSeq/Lcp8_tum_IgG_2_S65_R2_001.fastq.gz\n",
      "/projects/cdr3_ngs/2022/02_FMBA_NovaSeq/Lcp9_tum_IgA_1_S15_R1_001.fastq.gz\n",
      "/projects/cdr3_ngs/2022/02_FMBA_NovaSeq/Lcp9_tum_IgA_1_S15_R2_001.fastq.gz\n",
      "/projects/cdr3_ngs/2022/02_FMBA_NovaSeq/Lcp9_tum_IgA_2_S16_R1_001.fastq.gz\n",
      "/projects/cdr3_ngs/2022/02_FMBA_NovaSeq/Lcp9_tum_IgA_2_S16_R2_001.fastq.gz\n",
      "/projects/cdr3_ngs/2022/02_FMBA_NovaSeq/Lcp9_tum_IgG_1_S17_R1_001.fastq.gz\n",
      "/projects/cdr3_ngs/2022/02_FMBA_NovaSeq/Lcp9_tum_IgG_1_S17_R2_001.fastq.gz\n",
      "/projects/cdr3_ngs/2022/02_FMBA_NovaSeq/Lcp9_tum_IgG_2_S18_R1_001.fastq.gz\n",
      "/projects/cdr3_ngs/2022/02_FMBA_NovaSeq/Lcp9_tum_IgG_2_S18_R2_001.fastq.gz\n",
      "/projects/cdr3_ngs/2022/02_FMBA_NovaSeq/rc_p12_norm_IgA_S40_R1_001.fastq.gz\n",
      "/projects/cdr3_ngs/2022/02_FMBA_NovaSeq/rc_p12_norm_IgA_S40_R2_001.fastq.gz\n",
      "/projects/cdr3_ngs/2022/02_FMBA_NovaSeq/rc_p12_norm_IgG_S39_R1_001.fastq.gz\n",
      "/projects/cdr3_ngs/2022/02_FMBA_NovaSeq/rc_p12_norm_IgG_S39_R2_001.fastq.gz\n",
      "/projects/cdr3_ngs/2022/02_FMBA_NovaSeq/rc_p12_tum_IgA_S38_R1_001.fastq.gz\n",
      "/projects/cdr3_ngs/2022/02_FMBA_NovaSeq/rc_p12_tum_IgA_S38_R2_001.fastq.gz\n",
      "/projects/cdr3_ngs/2022/02_FMBA_NovaSeq/rc_p12_tum_IgG_S37_R1_001.fastq.gz\n",
      "/projects/cdr3_ngs/2022/02_FMBA_NovaSeq/rc_p12_tum_IgG_S37_R2_001.fastq.gz\n",
      "/projects/cdr3_ngs/2022/02_FMBA_NovaSeq/rc_p16_tum_IgA_S51_R1_001.fastq.gz\n",
      "/projects/cdr3_ngs/2022/02_FMBA_NovaSeq/rc_p16_tum_IgA_S51_R2_001.fastq.gz\n",
      "/projects/cdr3_ngs/2022/02_FMBA_NovaSeq/rc_p16_tum_IgG1_S50_R1_001.fastq.gz\n",
      "/projects/cdr3_ngs/2022/02_FMBA_NovaSeq/rc_p16_tum_IgG1_S50_R2_001.fastq.gz\n",
      "/projects/cdr3_ngs/2022/02_FMBA_NovaSeq/rc_p17_tum_IgA_S42_R1_001.fastq.gz\n",
      "/projects/cdr3_ngs/2022/02_FMBA_NovaSeq/rc_p17_tum_IgA_S42_R2_001.fastq.gz\n",
      "/projects/cdr3_ngs/2022/02_FMBA_NovaSeq/rc_p17_tum_IgG_S41_R1_001.fastq.gz\n",
      "/projects/cdr3_ngs/2022/02_FMBA_NovaSeq/rc_p17_tum_IgG_S41_R2_001.fastq.gz\n",
      "/projects/cdr3_ngs/2022/02_FMBA_NovaSeq/rc_p18_tum_IgA_1_star_S3_R1_001.fastq.gz\n",
      "/projects/cdr3_ngs/2022/02_FMBA_NovaSeq/rc_p18_tum_IgA_1_star_S3_R2_001.fastq.gz\n",
      "/projects/cdr3_ngs/2022/02_FMBA_NovaSeq/rc_p18_tum_IgA_2_S4_R1_001.fastq.gz\n",
      "/projects/cdr3_ngs/2022/02_FMBA_NovaSeq/rc_p18_tum_IgA_2_S4_R2_001.fastq.gz\n",
      "/projects/cdr3_ngs/2022/02_FMBA_NovaSeq/rc_p18_tum_IgG_1_star_S1_R1_001.fastq.gz\n",
      "/projects/cdr3_ngs/2022/02_FMBA_NovaSeq/rc_p18_tum_IgG_1_star_S1_R2_001.fastq.gz\n",
      "/projects/cdr3_ngs/2022/02_FMBA_NovaSeq/rc_p18_tum_IgG_2_S2_R1_001.fastq.gz\n",
      "/projects/cdr3_ngs/2022/02_FMBA_NovaSeq/rc_p18_tum_IgG_2_S2_R2_001.fastq.gz\n",
      "/projects/cdr3_ngs/2022/02_FMBA_NovaSeq/rc_p19_tum_IgA_S6_R1_001.fastq.gz\n",
      "/projects/cdr3_ngs/2022/02_FMBA_NovaSeq/rc_p19_tum_IgA_S6_R2_001.fastq.gz\n",
      "/projects/cdr3_ngs/2022/02_FMBA_NovaSeq/rc_p19_tum_IgG_S5_R1_001.fastq.gz\n",
      "/projects/cdr3_ngs/2022/02_FMBA_NovaSeq/rc_p19_tum_IgG_S5_R2_001.fastq.gz\n",
      "/projects/cdr3_ngs/2022/02_FMBA_NovaSeq/rc_p20_tum_IgA_S8_R1_001.fastq.gz\n",
      "/projects/cdr3_ngs/2022/02_FMBA_NovaSeq/rc_p20_tum_IgA_S8_R2_001.fastq.gz\n",
      "/projects/cdr3_ngs/2022/02_FMBA_NovaSeq/rc_p20_tum_IgG_S7_R1_001.fastq.gz\n",
      "/projects/cdr3_ngs/2022/02_FMBA_NovaSeq/rc_p20_tum_IgG_S7_R2_001.fastq.gz\n",
      "/projects/cdr3_ngs/2022/02_FMBA_NovaSeq/rc_p21_tum_IgA_S10_R1_001.fastq.gz\n",
      "/projects/cdr3_ngs/2022/02_FMBA_NovaSeq/rc_p21_tum_IgA_S10_R2_001.fastq.gz\n",
      "/projects/cdr3_ngs/2022/02_FMBA_NovaSeq/rc_p21_tum_IgG_S9_R1_001.fastq.gz\n",
      "/projects/cdr3_ngs/2022/02_FMBA_NovaSeq/rc_p21_tum_IgG_S9_R2_001.fastq.gz\n",
      "/projects/cdr3_ngs/2022/02_FMBA_NovaSeq/rc_p22_tum_IgA_1_S13_R1_001.fastq.gz\n",
      "/projects/cdr3_ngs/2022/02_FMBA_NovaSeq/rc_p22_tum_IgA_1_S13_R2_001.fastq.gz\n",
      "/projects/cdr3_ngs/2022/02_FMBA_NovaSeq/rc_p22_tum_IgA_2_S14_R1_001.fastq.gz\n",
      "/projects/cdr3_ngs/2022/02_FMBA_NovaSeq/rc_p22_tum_IgA_2_S14_R2_001.fastq.gz\n",
      "/projects/cdr3_ngs/2022/02_FMBA_NovaSeq/rc_p22_tum_IgG_1_S11_R1_001.fastq.gz\n",
      "/projects/cdr3_ngs/2022/02_FMBA_NovaSeq/rc_p22_tum_IgG_1_S11_R2_001.fastq.gz\n",
      "/projects/cdr3_ngs/2022/02_FMBA_NovaSeq/rc_p22_tum_IgG_2_S12_R1_001.fastq.gz\n",
      "/projects/cdr3_ngs/2022/02_FMBA_NovaSeq/rc_p22_tum_IgG_2_S12_R2_001.fastq.gz\n",
      "/projects/cdr3_ngs/2022/02_FMBA_NovaSeq/rc_p23_tum_IgA_1_S31_R1_001.fastq.gz\n",
      "/projects/cdr3_ngs/2022/02_FMBA_NovaSeq/rc_p23_tum_IgA_1_S31_R2_001.fastq.gz\n",
      "/projects/cdr3_ngs/2022/02_FMBA_NovaSeq/rc_p23_tum_IgA_2_S32_R1_001.fastq.gz\n",
      "/projects/cdr3_ngs/2022/02_FMBA_NovaSeq/rc_p23_tum_IgA_2_S32_R2_001.fastq.gz\n",
      "/projects/cdr3_ngs/2022/02_FMBA_NovaSeq/rc_p23_tum_IgG_1_S29_R1_001.fastq.gz\n",
      "/projects/cdr3_ngs/2022/02_FMBA_NovaSeq/rc_p23_tum_IgG_1_S29_R2_001.fastq.gz\n",
      "/projects/cdr3_ngs/2022/02_FMBA_NovaSeq/rc_p23_tum_IgG_2_S30_R1_001.fastq.gz\n",
      "/projects/cdr3_ngs/2022/02_FMBA_NovaSeq/rc_p23_tum_IgG_2_S30_R2_001.fastq.gz\n",
      "/projects/cdr3_ngs/2022/02_FMBA_NovaSeq/rc_p25_tum_IgA_1_S43_R1_001.fastq.gz\n",
      "/projects/cdr3_ngs/2022/02_FMBA_NovaSeq/rc_p25_tum_IgA_1_S43_R2_001.fastq.gz\n",
      "/projects/cdr3_ngs/2022/02_FMBA_NovaSeq/rc_p25_tum_IgA_2_S44_R1_001.fastq.gz\n",
      "/projects/cdr3_ngs/2022/02_FMBA_NovaSeq/rc_p25_tum_IgA_2_S44_R2_001.fastq.gz\n",
      "/projects/cdr3_ngs/2022/02_FMBA_NovaSeq/rc_p25_tum_IgA_3_S45_R1_001.fastq.gz\n",
      "/projects/cdr3_ngs/2022/02_FMBA_NovaSeq/rc_p25_tum_IgA_3_S45_R2_001.fastq.gz\n",
      "/projects/cdr3_ngs/2022/02_FMBA_NovaSeq/rc_p25_tum_IgG_1_S46_R1_001.fastq.gz\n",
      "/projects/cdr3_ngs/2022/02_FMBA_NovaSeq/rc_p25_tum_IgG_1_S46_R2_001.fastq.gz\n",
      "/projects/cdr3_ngs/2022/02_FMBA_NovaSeq/rc_p25_tum_IgG_2_S47_R1_001.fastq.gz\n",
      "/projects/cdr3_ngs/2022/02_FMBA_NovaSeq/rc_p25_tum_IgG_2_S47_R2_001.fastq.gz\n",
      "/projects/cdr3_ngs/2022/02_FMBA_NovaSeq/rc_p25_tum_IgG_3_S48_R1_001.fastq.gz\n",
      "/projects/cdr3_ngs/2022/02_FMBA_NovaSeq/rc_p25_tum_IgG_3_S48_R2_001.fastq.gz\n",
      "/projects/cdr3_ngs/2022/02_FMBA_NovaSeq/rc_p26_tum_IgA_S33_R1_001.fastq.gz\n",
      "/projects/cdr3_ngs/2022/02_FMBA_NovaSeq/rc_p26_tum_IgA_S33_R2_001.fastq.gz\n",
      "/projects/cdr3_ngs/2022/02_FMBA_NovaSeq/rc_p26_tum_IgG_1_S34_R1_001.fastq.gz\n",
      "/projects/cdr3_ngs/2022/02_FMBA_NovaSeq/rc_p26_tum_IgG_1_S34_R2_001.fastq.gz\n",
      "/projects/cdr3_ngs/2022/02_FMBA_NovaSeq/rc_p26_tum_IgG_2_S35_R1_001.fastq.gz\n",
      "/projects/cdr3_ngs/2022/02_FMBA_NovaSeq/rc_p26_tum_IgG_2_S35_R2_001.fastq.gz\n",
      "/projects/cdr3_ngs/2022/02_FMBA_NovaSeq/rc_p26_tum_IgG_3_S36_R1_001.fastq.gz\n",
      "/projects/cdr3_ngs/2022/02_FMBA_NovaSeq/rc_p26_tum_IgG_3_S36_R2_001.fastq.gz\n"
     ]
    }
   ],
   "source": [
    "!ls /projects/cdr3_ngs/2022/02_FMBA_NovaSeq/Lcp* /projects/cdr3_ngs/2022/02_FMBA_NovaSeq/rc_p*"
   ]
  },
  {
   "cell_type": "code",
   "execution_count": 15,
   "id": "798b65f0-4899-4eff-98f6-bfaaeff54eeb",
   "metadata": {},
   "outputs": [],
   "source": [
    "!ln -s -t ~/B_Memory_master/Master_Diploma_Private/data/raw /projects/cdr3_ngs/2022/02_FMBA_NovaSeq/Lcp* /projects/cdr3_ngs/2022/02_FMBA_NovaSeq/rc_p*"
   ]
  },
  {
   "cell_type": "code",
   "execution_count": 55,
   "id": "8ada276e-30e0-458f-ba91-14f003bdd8bb",
   "metadata": {},
   "outputs": [
    {
     "name": "stdout",
     "output_type": "stream",
     "text": [
      "Submitted batch job 17927\n"
     ]
    }
   ],
   "source": [
    "!sbatch /home/eshchoka/B_Memory_master/Master_Diploma_Private/FastQC.sh"
   ]
  },
  {
   "cell_type": "code",
   "execution_count": 3,
   "id": "28749fcd-a707-46b3-8655-23f2fc6a6861",
   "metadata": {},
   "outputs": [
    {
     "name": "stdout",
     "output_type": "stream",
     "text": [
      "/bin/bash: multiqc: command not found\n"
     ]
    }
   ],
   "source": [
    "!multiqc --help"
   ]
  },
  {
   "cell_type": "code",
   "execution_count": null,
   "id": "d97e5eb9-0c20-4e8f-b597-61669608faa7",
   "metadata": {},
   "outputs": [],
   "source": []
  },
  {
   "cell_type": "code",
   "execution_count": null,
   "id": "4b702042-31cf-4284-8d2f-fa2804ff3622",
   "metadata": {},
   "outputs": [],
   "source": []
  }
 ],
 "metadata": {
  "kernelspec": {
   "display_name": "Python [conda env:.conda-p3-rnaseq]",
   "language": "python",
   "name": "conda-env-.conda-p3-rnaseq-py"
  },
  "language_info": {
   "codemirror_mode": {
    "name": "ipython",
    "version": 3
   },
   "file_extension": ".py",
   "mimetype": "text/x-python",
   "name": "python",
   "nbconvert_exporter": "python",
   "pygments_lexer": "ipython3",
   "version": "3.10.9"
  }
 },
 "nbformat": 4,
 "nbformat_minor": 5
}
