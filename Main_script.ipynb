{
 "cells": [
  {
   "cell_type": "code",
   "execution_count": 62,
   "id": "67085117-e72f-45ff-b718-ca5146d1284c",
   "metadata": {},
   "outputs": [],
   "source": [
    "#!MY_PATH=\"/home/eshchoka/B_Memory_master/Master_Diploma_Private/data/\""
   ]
  },
  {
   "cell_type": "code",
   "execution_count": 63,
   "id": "f728b042-cff5-429f-82cb-30aac5c3b22a",
   "metadata": {},
   "outputs": [
    {
     "name": "stdout",
     "output_type": "stream",
     "text": [
      "\n"
     ]
    }
   ],
   "source": [
    "#!echo $MY_PATH"
   ]
  },
  {
   "cell_type": "code",
   "execution_count": null,
   "id": "44dcde2f-7117-48fb-9c0e-0654cebbdb7d",
   "metadata": {},
   "outputs": [],
   "source": [
    "!ls /projects/cdr3_ngs/2022/02_FMBA_NovaSeq/Lcp* /projects/cdr3_ngs/2022/02_FMBA_NovaSeq/rc_p*"
   ]
  },
  {
   "cell_type": "code",
   "execution_count": 15,
   "id": "798b65f0-4899-4eff-98f6-bfaaeff54eeb",
   "metadata": {},
   "outputs": [],
   "source": [
    "!ln -s -t ~/B_Memory_master/Master_Diploma_Private/data/raw /projects/cdr3_ngs/2022/02_FMBA_NovaSeq/Lcp* /projects/cdr3_ngs/2022/02_FMBA_NovaSeq/rc_p*"
   ]
  },
  {
   "cell_type": "code",
   "execution_count": null,
   "id": "8ada276e-30e0-458f-ba91-14f003bdd8bb",
   "metadata": {},
   "outputs": [],
   "source": [
    "!sbatch /home/eshchoka/B_Memory_master/Master_Diploma_Private/FastQC.sh"
   ]
  },
  {
   "cell_type": "code",
   "execution_count": 3,
   "id": "28749fcd-a707-46b3-8655-23f2fc6a6861",
   "metadata": {},
   "outputs": [
    {
     "name": "stdout",
     "output_type": "stream",
     "text": [
      "/bin/bash: multiqc: command not found\n"
     ]
    }
   ],
   "source": [
    "!multiqc --help"
   ]
  },
  {
   "cell_type": "code",
   "execution_count": null,
   "id": "d97e5eb9-0c20-4e8f-b597-61669608faa7",
   "metadata": {},
   "outputs": [],
   "source": []
  },
  {
   "cell_type": "code",
   "execution_count": null,
   "id": "4b702042-31cf-4284-8d2f-fa2804ff3622",
   "metadata": {},
   "outputs": [],
   "source": []
  }
 ],
 "metadata": {
  "kernelspec": {
   "display_name": "Python [conda env:.conda-p3-rnaseq]",
   "language": "python",
   "name": "conda-env-.conda-p3-rnaseq-py"
  },
  "language_info": {
   "codemirror_mode": {
    "name": "ipython",
    "version": 3
   },
   "file_extension": ".py",
   "mimetype": "text/x-python",
   "name": "python",
   "nbconvert_exporter": "python",
   "pygments_lexer": "ipython3",
   "version": "3.10.9"
  }
 },
 "nbformat": 4,
 "nbformat_minor": 5
}
